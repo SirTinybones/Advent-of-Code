{
 "cells": [
  {
   "cell_type": "markdown",
   "metadata": {},
   "source": [
    "# Triangular Numbers\n",
    "\n",
    "A triangular number correspond to the number of dots that would appear in an equilateral triangle when using a basic triangular pattern to build the triangule.\n",
    "\n",
    "The triangular numbers sequence contains all the triangular numbers in order.\n",
    "\n",
    "The first 10 numbers of the triangular number sequence are:\n",
    "\n",
    "`1, 3, 6, 10, 15, 21, 28, 36, 45, 55, ...`\n",
    "\n",
    "![Trinagular number sequence](https://www.101computing.net/wp/wp-content/uploads/trinagular-number-sequence.png)\n",
    "\n",
    "The following table shows how we can calculate each triangular number from this sequence:\n",
    "\n",
    "| Triangular Number | Calculation |\n",
    "|:-----------------:|:-----------:|\n",
    "| 1                 | =1          |\n",
    "| 3                 | =1+2        |\n",
    "| 6                 | =1+2+3      |\n",
    "| 10                | =1+2+3+4    |\n",
    "| 15                | =1+2+3+4+5  |"
   ]
  },
  {
   "cell_type": "markdown",
   "metadata": {},
   "source": [
    "## Print the first 20 triangular numbers"
   ]
  },
  {
   "cell_type": "code",
   "execution_count": 18,
   "metadata": {},
   "outputs": [
    {
     "name": "stdout",
     "output_type": "stream",
     "text": [
      "The first 20 triangular numbers are...\n",
      "1\n",
      "3\n",
      "6\n",
      "10\n",
      "15\n",
      "21\n",
      "28\n",
      "36\n",
      "45\n",
      "55\n",
      "66\n",
      "78\n",
      "91\n",
      "105\n",
      "120\n",
      "136\n",
      "153\n",
      "171\n",
      "190\n"
     ]
    }
   ],
   "source": [
    "number = 0\n",
    "\n",
    "print(\"The first 20 triangular numbers are...\")\n",
    "for i in range(1,20):\n",
    "    number = number + i\n",
    "    print(number)"
   ]
  },
  {
   "cell_type": "markdown",
   "metadata": {},
   "source": [
    "## Finding the nth term in the sequence\n",
    "\n",
    "The following mathematical formula can be used to find the nth triangular number in this sequence:  \n",
    "*n<sup>th</sup> number = n(n+1)/2*"
   ]
  },
  {
   "cell_type": "code",
   "execution_count": 19,
   "metadata": {},
   "outputs": [
    {
     "name": "stdout",
     "output_type": "stream",
     "text": [
      "Triangular Number Sequence - Finding the nth term.\n",
      "The 20th triangular number is: 210\n"
     ]
    }
   ],
   "source": [
    "print(\"Triangular Number Sequence - Finding the nth term.\")\n",
    "\n",
    "# A number between 1 and 1,000,000,000\n",
    "n = int(20)\n",
    "\n",
    "triangularNumber = int(n*(n+1)/2)\n",
    "\n",
    "print(\"The \" + str(n) + \"th triangular number is: \" + str(triangularNumber))"
   ]
  },
  {
   "cell_type": "markdown",
   "metadata": {},
   "source": [
    "## Function to calculate Triangular Number Sequence\n",
    "\n",
    "```Python\n",
    "def tri(n):\n",
    "    return n*(n+1)/2\n",
    "```"
   ]
  }
 ],
 "metadata": {
  "interpreter": {
   "hash": "63fd5069d213b44bf678585dea6b12cceca9941eaf7f819626cde1f2670de90d"
  },
  "kernelspec": {
   "display_name": "Python 3.9.5 64-bit",
   "language": "python",
   "name": "python3"
  },
  "language_info": {
   "codemirror_mode": {
    "name": "ipython",
    "version": 3
   },
   "file_extension": ".py",
   "mimetype": "text/x-python",
   "name": "python",
   "nbconvert_exporter": "python",
   "pygments_lexer": "ipython3",
   "version": "3.9.5"
  },
  "orig_nbformat": 4
 },
 "nbformat": 4,
 "nbformat_minor": 2
}
